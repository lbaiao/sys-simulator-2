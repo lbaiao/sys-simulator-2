{
 "metadata": {
  "language_info": {
   "codemirror_mode": {
    "name": "ipython",
    "version": 3
   },
   "file_extension": ".py",
   "mimetype": "text/x-python",
   "name": "python",
   "nbconvert_exporter": "python",
   "pygments_lexer": "ipython3",
   "version": "3.8.5"
  },
  "orig_nbformat": 2,
  "kernelspec": {
   "name": "python385jvsc74a57bd069834669b4135c3fdf3ac963a72a97611d22a04258f493e65275dd6f43936268",
   "display_name": "Python 3.8.5 64-bit ('masters': conda)"
  }
 },
 "nbformat": 4,
 "nbformat_minor": 2,
 "cells": [
  {
   "cell_type": "code",
   "execution_count": 46,
   "metadata": {},
   "outputs": [],
   "source": [
    "from sys_simulator.general import save_with_pickle\n",
    "from copy import deepcopy"
   ]
  },
  {
   "cell_type": "code",
   "execution_count": 47,
   "metadata": {},
   "outputs": [],
   "source": [
    "# filepath = \"D:\\Dev/sys-simulator-2\\DATA\\DQL\\SCRIPT52\\\\20210428-214518\\\\log.pickle\"\n",
    "filepath = \"D:\\\\Dev\\\\sys-simulator-2\\\\data\\\\a2c\\\\script16\\\\20210508-193434\\\\log.pickle\"\n",
    "\n",
    "file = open(filepath, 'rb')\n",
    "data = pickle.load(file)\n",
    "file.close()"
   ]
  },
  {
   "cell_type": "code",
   "execution_count": 48,
   "metadata": {},
   "outputs": [
    {
     "output_type": "execute_result",
     "data": {
      "text/plain": [
       "dict_keys(['train_bags', 'test_bags', 'elapsed_time', 'eval_every', 'mue_sinr_threshold'])"
      ]
     },
     "metadata": {},
     "execution_count": 48
    }
   ],
   "source": [
    "data.keys()"
   ]
  },
  {
   "cell_type": "code",
   "execution_count": 49,
   "metadata": {},
   "outputs": [
    {
     "output_type": "execute_result",
     "data": {
      "text/plain": [
       "dict_keys(['mue_sinrs_effs', 'd2d_sinrs_effs', 'collected_states', 'rewards'])"
      ]
     },
     "metadata": {},
     "execution_count": 49
    }
   ],
   "source": [
    "data['train_bags'].keys()"
   ]
  },
  {
   "cell_type": "code",
   "execution_count": 50,
   "metadata": {},
   "outputs": [
    {
     "output_type": "execute_result",
     "data": {
      "text/plain": [
       "dict_keys(['rewards', 'mue_sinrs', 'd2d_sinrs', 'mue_availability'])"
      ]
     },
     "metadata": {},
     "execution_count": 50
    }
   ],
   "source": [
    "data['test_bags'].keys()"
   ]
  },
  {
   "cell_type": "code",
   "execution_count": 51,
   "metadata": {},
   "outputs": [],
   "source": [
    "# f_keys = {    \n",
    "#     'mue_sinrs': 'mue_sinrs_effs',\n",
    "#     'd2d_sinrs': 'd2d_sinrs_effs',    \n",
    "# }\n",
    "f_keys = {    \n",
    "    'mue_sinrs': 'mue_spectral_effs',\n",
    "    'd2d_sinrs': 'd2d_spectral_effs',    \n",
    "}\n",
    "\n",
    "def fix_data(data):\n",
    "    f_data = deepcopy(data)\n",
    "    for k in f_keys.keys():\n",
    "        f_data[k] = data[f_keys[k]]\n",
    "    return f_data"
   ]
  },
  {
   "cell_type": "code",
   "execution_count": 52,
   "metadata": {},
   "outputs": [],
   "source": [
    "f_train = fix_data(data['train_bags'])\n",
    "fixed_data = deepcopy(data)\n",
    "fixed_data['train_bags'] = f_train"
   ]
  },
  {
   "cell_type": "code",
   "execution_count": 53,
   "metadata": {},
   "outputs": [],
   "source": [
    "aux = [i for i in range(len(filepath)) if filepath[i] == '\\\\' or i == '/']\n",
    "aux2 = filepath[:aux[-1]]\n",
    "out_path = f'{aux2}/fixed_log.pickle'\n",
    "save_with_pickle(fixed_data, out_path)"
   ]
  },
  {
   "cell_type": "code",
   "execution_count": null,
   "metadata": {},
   "outputs": [],
   "source": []
  }
 ]
}