{
 "cells": [
  {
   "cell_type": "markdown",
   "metadata": {},
   "source": [
    "# General notebook for visualizing scripts and scratches results"
   ]
  },
  {
   "cell_type": "markdown",
   "metadata": {},
   "source": [
    "Compatible scripts:\n",
    "\n",
    "DQN:\n",
    "* script40\n"
   ]
  },
  {
   "cell_type": "code",
   "execution_count": 2,
   "metadata": {},
   "outputs": [
    {
     "name": "stderr",
     "output_type": "stream",
     "text": [
      "In D:\\Users\\lucas\\anaconda3\\envs\\masters\\lib\\site-packages\\matplotlib\\mpl-data\\stylelib\\_classic_test.mplstyle: \n",
      "The text.latex.preview rcparam was deprecated in Matplotlib 3.3 and will be removed two minor releases later.\n",
      "In D:\\Users\\lucas\\anaconda3\\envs\\masters\\lib\\site-packages\\matplotlib\\mpl-data\\stylelib\\_classic_test.mplstyle: \n",
      "The mathtext.fallback_to_cm rcparam was deprecated in Matplotlib 3.3 and will be removed two minor releases later.\n",
      "In D:\\Users\\lucas\\anaconda3\\envs\\masters\\lib\\site-packages\\matplotlib\\mpl-data\\stylelib\\_classic_test.mplstyle: Support for setting the 'mathtext.fallback_to_cm' rcParam is deprecated since 3.3 and will be removed two minor releases later; use 'mathtext.fallback : 'cm' instead.\n",
      "In D:\\Users\\lucas\\anaconda3\\envs\\masters\\lib\\site-packages\\matplotlib\\mpl-data\\stylelib\\_classic_test.mplstyle: \n",
      "The validate_bool_maybe_none function was deprecated in Matplotlib 3.3 and will be removed two minor releases later.\n",
      "In D:\\Users\\lucas\\anaconda3\\envs\\masters\\lib\\site-packages\\matplotlib\\mpl-data\\stylelib\\_classic_test.mplstyle: \n",
      "The savefig.jpeg_quality rcparam was deprecated in Matplotlib 3.3 and will be removed two minor releases later.\n",
      "In D:\\Users\\lucas\\anaconda3\\envs\\masters\\lib\\site-packages\\matplotlib\\mpl-data\\stylelib\\_classic_test.mplstyle: \n",
      "The keymap.all_axes rcparam was deprecated in Matplotlib 3.3 and will be removed two minor releases later.\n",
      "In D:\\Users\\lucas\\anaconda3\\envs\\masters\\lib\\site-packages\\matplotlib\\mpl-data\\stylelib\\_classic_test.mplstyle: \n",
      "The animation.avconv_path rcparam was deprecated in Matplotlib 3.3 and will be removed two minor releases later.\n",
      "In D:\\Users\\lucas\\anaconda3\\envs\\masters\\lib\\site-packages\\matplotlib\\mpl-data\\stylelib\\_classic_test.mplstyle: \n",
      "The animation.avconv_args rcparam was deprecated in Matplotlib 3.3 and will be removed two minor releases later.\n"
     ]
    }
   ],
   "source": [
    "import pickle\n",
    "import matplotlib.pyplot as plt\n",
    "import seaborn as sns\n",
    "import pandas as pd\n",
    "import numpy as np\n",
    "import torch\n",
    "\n",
    "def db_to_power(x):\n",
    "    return 10**(x/10)\n",
    "# %matplotlib inline"
   ]
  },
  {
   "cell_type": "markdown",
   "metadata": {},
   "source": [
    "# Testing data"
   ]
  },
  {
   "cell_type": "code",
   "execution_count": 3,
   "metadata": {},
   "outputs": [],
   "source": [
    "# filepath = \"D:\\\\Dev\\\\sys-simulator-2\\\\data\\\\dql\\\\script47\\\\20210128-195152\\\\log.pickle\"\n",
    "filepath = \"\"\"D:\\Dev\\sys-simulator-2\\data\\dql\\script49\\\\20210202-210757\\log.pickle\"\"\"\n",
    "# FILE_NAME = 'script47\\\\20210128-195152\\\\log'\n",
    "# filepath = f'D:\\\\Dev\\\\sys-simulator-2\\\\data\\\\dql\\\\{FILE_NAME}.pickle'\n",
    "# filepath = 'D:\\\\Dev\\\\sys-simulator-2\\\\data\\\\a3c\\\\scratch7.pickle'\n",
    "# filepath = f'D:\\\\Dev\\\\sys-simulator-2\\\\data\\\\a2c\\\\{FILE_NAME}.pickle'\n",
    "file = open(filepath, 'rb')\n",
    "data = pickle.load(file)\n",
    "file.close()"
   ]
  },
  {
   "cell_type": "markdown",
   "metadata": {},
   "source": [
    "## MUE success rate"
   ]
  },
  {
   "cell_type": "code",
   "execution_count": 4,
   "metadata": {
    "scrolled": false
   },
   "outputs": [
    {
     "data": {
      "text/plain": [
       "Text(0.5, 0, 'Number of D2D pairs')"
      ]
     },
     "execution_count": 4,
     "metadata": {},
     "output_type": "execute_result"
    },
    {
     "data": {
      "image/png": "[encoded data removed]",
      "text/plain": [
       "<Figure size 432x288 with 1 Axes>"
      ]
     },
     "metadata": {
      "needs_background": "light"
     },
     "output_type": "display_data"
    }
   ],
   "source": [
    "mue_success_rate = np.array(data['mue_success_rate'])\n",
    "aux = np.ones((mue_success_rate.shape[0], np.prod(mue_success_rate.shape[1:])))\n",
    "for i in range(len(aux)):\n",
    "    aux[i] *= i+1\n",
    "n_d2d = aux.reshape(-1)\n",
    "aux2 = mue_success_rate.reshape(-1)\n",
    "# dataframe\n",
    "df = pd.DataFrame({'success': aux2, 'n_d2d': n_d2d})\n",
    "# plot\n",
    "sns.lineplot(x=\"n_d2d\", y=\"success\", data=df)\n",
    "x_ticks = df['n_d2d'].unique()\n",
    "x_ticks.sort()\n",
    "plt.xticks(x_ticks)\n",
    "plt.ylabel('Average MUE Availability')\n",
    "plt.xlabel('Number of D2D pairs')"
   ]
  },
  {
   "cell_type": "markdown",
   "metadata": {},
   "source": [
    "## MUE Spectral Efficiencies"
   ]
  },
  {
   "cell_type": "code",
   "execution_count": 5,
   "metadata": {},
   "outputs": [
    {
     "data": {
      "text/plain": [
       "6"
      ]
     },
     "execution_count": 5,
     "metadata": {},
     "output_type": "execute_result"
    }
   ],
   "source": [
    "data['mue_sinr_threshold']"
   ]
  },
  {
   "cell_type": "code",
   "execution_count": 6,
   "metadata": {},
   "outputs": [
    {
     "data": {
      "text/plain": [
       "Text(0.5, 0, 'Number of D2D pairs')"
      ]
     },
     "execution_count": 6,
     "metadata": {},
     "output_type": "execute_result"
    },
    {
     "data": {
      "image/png": "[encoded data removed]",
      "text/plain": [
       "<Figure size 432x288 with 1 Axes>"
      ]
     },
     "metadata": {
      "needs_background": "light"
     },
     "output_type": "display_data"
    }
   ],
   "source": [
    "mue_speffs = np.array(data['mue_speffs'])\n",
    "aux = np.ones((mue_speffs.shape[0], np.prod(mue_speffs.shape[1:])))\n",
    "for i in range(len(aux)):\n",
    "    aux[i] *= i+1\n",
    "n_d2d = aux.reshape(-1)\n",
    "aux2 = mue_speffs.reshape(-1)\n",
    "\n",
    "df = pd.DataFrame({'speffs': aux2, 'n_d2d': n_d2d})\n",
    "df['dummy'] = 'Spectral Efficiency'\n",
    "\n",
    "speff_threshold = np.log2(1 + db_to_power(data['mue_sinr_threshold'])) \n",
    "baseline = speff_threshold * np.ones(mue_speffs.shape[0])\n",
    "\n",
    "sns.lineplot(x=\"n_d2d\", y=\"speffs\",data=df)\n",
    "\n",
    "plt.plot(x_ticks, baseline)\n",
    "x_ticks = df['n_d2d'].unique()\n",
    "x_ticks.sort()\n",
    "plt.xticks(x_ticks)\n",
    "plt.ylabel('Average Spectral efficiency [bps/Hz]')\n",
    "plt.xlabel('Number of D2D pairs')"
   ]
  },
  {
   "cell_type": "code",
   "execution_count": 7,
   "metadata": {},
   "outputs": [
    {
     "data": {
      "text/plain": [
       "array([0., 0.])"
      ]
     },
     "execution_count": 7,
     "metadata": {},
     "output_type": "execute_result"
    }
   ],
   "source": [
    "mask = mue_success_rate[4] != 1\n",
    "mue_success_rate[4][mask]"
   ]
  },
  {
   "cell_type": "code",
   "execution_count": 8,
   "metadata": {},
   "outputs": [
    {
     "data": {
      "text/plain": [
       "[<matplotlib.lines.Line2D at 0x203b79a9910>]"
      ]
     },
     "execution_count": 8,
     "metadata": {},
     "output_type": "execute_result"
    },
    {
     "data": {
      "image/png": "[encoded data removed]",
      "text/plain": [
       "<Figure size 432x288 with 1 Axes>"
      ]
     },
     "metadata": {
      "needs_background": "light"
     },
     "output_type": "display_data"
    }
   ],
   "source": [
    "avgs = np.mean(mue_speffs, axis=(1,2))\n",
    "plt.plot(avgs)"
   ]
  },
  {
   "cell_type": "code",
   "execution_count": 9,
   "metadata": {},
   "outputs": [],
   "source": [
    "std_mue_success_rate = np.std(mue_success_rate, axis=1).tolist()\n",
    "mean_mue_speffs = np.mean(mue_success_rate, axis=1).tolist()"
   ]
  },
  {
   "cell_type": "markdown",
   "metadata": {},
   "source": [
    "## D2D Summed Spectral Efficiencies"
   ]
  },
  {
   "cell_type": "code",
   "execution_count": 10,
   "metadata": {},
   "outputs": [
    {
     "data": {
      "text/plain": [
       "Text(0.5, 0, 'Number of D2D pairs')"
      ]
     },
     "execution_count": 10,
     "metadata": {},
     "output_type": "execute_result"
    },
    {
     "data": {
      "image/png": "[encoded data removed]",
      "text/plain": [
       "<Figure size 432x288 with 1 Axes>"
      ]
     },
     "metadata": {
      "needs_background": "light"
     },
     "output_type": "display_data"
    }
   ],
   "source": [
    "d2d_speffs = np.array(data['d2d_speffs'])\n",
    "aux = np.ones((d2d_speffs.shape[0], np.prod(d2d_speffs.shape[1:])))\n",
    "for i in range(len(aux)):\n",
    "    aux[i] *= i+1\n",
    "n_d2d = aux.reshape(-1)\n",
    "aux2 = d2d_speffs.reshape(-1)\n",
    "# dataframe\n",
    "df = pd.DataFrame({'speff': aux2, 'n_d2d': n_d2d})\n",
    "# plot\n",
    "sns.lineplot(x=\"n_d2d\", y=\"speff\",data=df)\n",
    "x_ticks = df['n_d2d'].unique()\n",
    "x_ticks.sort()\n",
    "plt.xticks(x_ticks)\n",
    "plt.ylabel('Average Spectral efficiency [bps/Hz]')\n",
    "plt.xlabel('Number of D2D pairs')"
   ]
  },
  {
   "cell_type": "code",
   "execution_count": 11,
   "metadata": {
    "tags": []
   },
   "outputs": [
    {
     "name": "stdout",
     "output_type": "stream",
     "text": [
      "[1.70742252 2.17215615 3.48909266 3.96231212 4.21631649]\n"
     ]
    },
    {
     "data": {
      "text/plain": [
       "[<matplotlib.lines.Line2D at 0x203b8a37a30>]"
      ]
     },
     "execution_count": 11,
     "metadata": {},
     "output_type": "execute_result"
    },
    {
     "data": {
      "image/png": "[encoded data removed]",
      "text/plain": [
       "<Figure size 432x288 with 1 Axes>"
      ]
     },
     "metadata": {
      "needs_background": "light"
     },
     "output_type": "display_data"
    }
   ],
   "source": [
    "avgs = np.mean(d2d_speffs, axis=(1,2))\n",
    "print(avgs)\n",
    "plt.plot(avgs)"
   ]
  },
  {
   "cell_type": "markdown",
   "metadata": {},
   "source": [
    "## Training data"
   ]
  },
  {
   "cell_type": "markdown",
   "metadata": {},
   "source": [
    "## Training evaluation rewards"
   ]
  },
  {
   "cell_type": "code",
   "execution_count": 12,
   "metadata": {},
   "outputs": [
    {
     "ename": "KeyError",
     "evalue": "'training_rewards'",
     "output_type": "error",
     "traceback": [
      "\u001b[1;31m---------------------------------------------------------------------------\u001b[0m",
      "\u001b[1;31mKeyError\u001b[0m                                  Traceback (most recent call last)",
      "\u001b[1;32m<ipython-input-12-8c229bd38a16>\u001b[0m in \u001b[0;36m<module>\u001b[1;34m\u001b[0m\n\u001b[1;32m----> 1\u001b[1;33m \u001b[0mr\u001b[0m \u001b[1;33m=\u001b[0m \u001b[0mdata\u001b[0m\u001b[1;33m[\u001b[0m\u001b[1;34m'training_rewards'\u001b[0m\u001b[1;33m]\u001b[0m\u001b[1;33m\u001b[0m\u001b[1;33m\u001b[0m\u001b[0m\n\u001b[0m\u001b[0;32m      2\u001b[0m \u001b[0mt\u001b[0m \u001b[1;33m=\u001b[0m \u001b[1;33m[\u001b[0m\u001b[1;33m(\u001b[0m\u001b[0mi\u001b[0m\u001b[1;33m+\u001b[0m\u001b[1;36m1\u001b[0m\u001b[1;33m)\u001b[0m \u001b[1;33m*\u001b[0m \u001b[0mdata\u001b[0m\u001b[1;33m[\u001b[0m\u001b[1;34m'eval_every'\u001b[0m\u001b[1;33m]\u001b[0m \u001b[1;32mfor\u001b[0m \u001b[0mi\u001b[0m \u001b[1;32min\u001b[0m \u001b[0mrange\u001b[0m\u001b[1;33m(\u001b[0m\u001b[0mlen\u001b[0m\u001b[1;33m(\u001b[0m\u001b[0mr\u001b[0m\u001b[1;33m)\u001b[0m\u001b[1;33m)\u001b[0m\u001b[1;33m]\u001b[0m\u001b[1;33m\u001b[0m\u001b[1;33m\u001b[0m\u001b[0m\n\u001b[0;32m      3\u001b[0m \u001b[0mplt\u001b[0m\u001b[1;33m.\u001b[0m\u001b[0mplot\u001b[0m\u001b[1;33m(\u001b[0m\u001b[0mt\u001b[0m\u001b[1;33m,\u001b[0m\u001b[0mr\u001b[0m\u001b[1;33m)\u001b[0m\u001b[1;33m\u001b[0m\u001b[1;33m\u001b[0m\u001b[0m\n",
      "\u001b[1;31mKeyError\u001b[0m: 'training_rewards'"
     ]
    }
   ],
   "source": [
    "r = data['training_rewards']\n",
    "t = [(i+1) * data['eval_every'] for i in range(len(r))]\n",
    "plt.plot(t,r)"
   ]
  },
  {
   "cell_type": "markdown",
   "metadata": {},
   "source": [
    "## Training evaluation D2D speffs"
   ]
  },
  {
   "cell_type": "code",
   "execution_count": null,
   "metadata": {},
   "outputs": [],
   "source": [
    "d_speffs = data['training_d2d_speffs']\n",
    "plt.plot(t, d_speffs)"
   ]
  },
  {
   "cell_type": "markdown",
   "metadata": {},
   "source": [
    "## Training evaluation MUE speffs"
   ]
  },
  {
   "cell_type": "code",
   "execution_count": null,
   "metadata": {},
   "outputs": [],
   "source": [
    "m_speffs = data['training_mue_speffs']\n",
    "plt.plot(t, m_speffs)"
   ]
  },
  {
   "cell_type": "code",
   "execution_count": null,
   "metadata": {},
   "outputs": [],
   "source": []
  }
 ],
 "metadata": {
  "kernelspec": {
   "display_name": "Python 3.8.3 64-bit ('masters': conda)",
   "language": "python",
   "name": "python38364bitmastersconda59f5bfbe6c0940feb67dda36d56b6d09"
  },
  "language_info": {
   "codemirror_mode": {
    "name": "ipython",
    "version": 3
   },
   "file_extension": ".py",
   "mimetype": "text/x-python",
   "name": "python",
   "nbconvert_exporter": "python",
   "pygments_lexer": "ipython3",
   "version": "3.8.5"
  }
 },
 "nbformat": 4,
 "nbformat_minor": 2
}
